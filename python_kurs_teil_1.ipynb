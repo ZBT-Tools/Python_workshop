{
 "cells": [
  {
   "cell_type": "markdown",
   "id": "60fbedd7-eee0-44bf-8430-2f85b734898a",
   "metadata": {
    "editable": true,
    "slideshow": {
     "slide_type": ""
    },
    "tags": []
   },
   "source": [
    "# Grundkurs Python\n",
    "\n",
    "Dieses Notebook dient als einführung in die Datenverarbeitung mit Python. "
   ]
  },
  {
   "cell_type": "markdown",
   "id": "cd90e7a8-10ed-4481-9c46-30a81d0c5826",
   "metadata": {},
   "source": [
    "## Warum sollte man Programmieren lernen?\n",
    "\n",
    "Programmierkenntnisse sind heutzutage in fast allen Berufsfeldern nützlich. Angestellte in der Verwaltung können damit beispielsweise wiederkehrende Tätigkeiten automatisieren, wie die Aufbereitung von Daten und das Erstellen von Berichten. Ingenieure und Forschende können große Datenmengen effizient analysieren, Simulationen durchführen und komplexe Prozesse automatisieren. \n",
    "\n",
    "### Warum Python? \n",
    "\n",
    "Python ist eine der beliebtesten Programmiersprachen der Welt. Die Gründe dafür sind vielfältig:\n",
    "- Einfachheit: Die Syntax von Python ist klar lesbar und leicht zu lernen\n",
    "- Erweiterbarkeit durch Module: Python lässt sich mit zahlreichen Modulen erweitern, die für nahezu alle häufigen Anwendungsfälle bereits eine ausführliche Grundlage bieten und somit viel eigenen Programmieraufwand erspart\n",
    "- Community: Durch die Beliebtheit von Python kann man zu fast jedem Problem online Erfahrungsberichte finden, die auch die Lösung des Problems erklären.\n",
    "\n",
    "### Was sind Jupyter Notebooks?\n",
    "Jupyter Notebooks bieten eine interaktive Entwicklungsumgebung für Python (und andere Sprachen), die es ermöglicht, Code mit erklärendem Text, Bildern, etc. zu kombinieren und den Code interaktiv Schritt für Schritt auszuführen. Im Gegensatz zu normalen Python Skripten, die als einfache `.py`-Datei gespeichert werden, kann man in Jupyter Notebooks den Code abschnittsweise ausführen, testen und direkt bearbeiten. Zwischen den Code-Blöcken lassen sich Textzellen mit Markdown-Formattierung einfügen, wodurch sich der Code sehr klar dokumentieren lässt. **Gute Dokumentation ist extrem wichtig für Code der langfristig genutzt und gepfelgt werden soll.** Ein weiterer Vorteil von Jupyter Notebook ist die anschauliche Visualisierung und Nachvollziehbarkeit des Codes, da Ergebnisse und Diagramme direkt inline angezeigt werden.\n",
    "\n",
    "### Wann sollte man Jupyter Notebooks verwenden und wann Skripte?\n",
    "\n",
    "Jupyter Notebooks:\n",
    "- Ideal für Datenanalyse und Prototyping\n",
    "- Analyse kann interaktive entwickelt und dokumentiert werden\n",
    "- Code, Ergebnisse und Erklärungen können kombiniert dargestellt werden, ideal z.B. für Berichte.\n",
    "\n",
    "Skripte:\n",
    "- Besser geeignet für umfangreiche Projekte\n",
    "- Ideal für automatisierung und regelmäßige Ausführung (z.B. tägliche Daten-Updates)\n",
    "- Praktisch, wenn der Code in andere Projekte integriert oder anderweitig wiederverwendbar sein soll"
   ]
  },
  {
   "cell_type": "markdown",
   "id": "aa283b4d-9895-4564-bbc4-c733ebc165fd",
   "metadata": {},
   "source": [
    "## Einführung in Jupyter\n",
    "\n",
    "Ein Jupyter Notebook besteht aus einer Liste von Zellen. Dabei gibt es zwei Typen von Zellen: Markdown und Code. \n",
    "\n",
    "### Markdown Zellen\n",
    "Markdown Zellen enthalten formattierbaren Text, wie in dieser Zelle und werden dazu verwendet den Code, die einzulesenden Daten oder die Ergebnisse der Auswertung zu erklären. \n",
    "Eine ausführliche Einführung in die Formattierung mit Markdown findet man z.B. hier: https://www.markdownguide.org/basic-syntax/ oder ein Cheat-Sheet mit den wichtigsten Formattierungsbefehlen hier: https://www.markdownguide.org/cheat-sheet/ . Für den Zweck dieses Kurses reicht es aber aus einfach nur unformattierten Text zu schreiben. (Markdown Zellen in Jupyter unterstützen auch $\\LaTeX$, indem man den Code in `$ $` einschließt.)\n",
    "\n",
    "### Code Zellen\n",
    "Code Zellen enthalten den ausführbaren Code, in unserem Fall Python. Zellen können einzeln ausgeführt werden oder seriell (mehr dazu, wenn wir anfangen Code zu schreiben). \n",
    "\n",
    "## Zellen erzeugen, bearbeiten und ausführen\n",
    "Jupyter Notebooks haben allgemein zwei Modi: Edit Mode und Command Mode\n",
    "\n",
    "### Edit Mode\n",
    "Im Edit Mode lässt sich eine Zelle bearbeiten. Um in den Edit Mode zu kommen, wählt man einfach eine Zelle aus und drückt `Enter`. \n",
    "\n",
    "### Command Mode\n",
    "Im Command Mode lässt sich das Notebook selbst bearbeiten, also z.B. Zellen einfügen, verschieben, ausführen und Zelltyp ändern. Um vom Edit Mode wieder in den Command Mode zu kommen drückt man `Esc`. Die meisten Funktionen des Command Mode lassen sich auch per Mausklick auf die entsprechenden Buttons ausführen, aber es lohnt sich auf Dauer für effizienteres Arbeiten die entsprechenden Tastaturbefehle zu lernen.\n",
    "\n",
    "Hier eine Liste an häufig verwendeten Tastaturbefehlen:\n",
    "- Leere Zelle über der aktuellen einfügen: `A`\n",
    "- Leere Zelle unter der aktuellen einfügen: `B`\n",
    "- Zelle kopieren: `C`\n",
    "- Zelle ausschneiden: `X` \n",
    "- Kopierte / ausgeschnittene Zelle einfügen: `V`\n",
    "- Zelle nach oben / unten verschieben: `Strg+Shift+Pfeil hoch/runter`\n",
    "- Zelle zu Markdown ändern: `M`\n",
    "- Zelle zu Code ändern: `Y`\n",
    "\n",
    "Die Tastaturbefehle um Zellen auszuführen lassen sich sowohl im Command Mode, als auch im Edit Mode verwenden:\n",
    "- Aktuelle Zelle ausführen: `Shift+Enter`\n",
    "- Aktuelle Zelle ausführen und darunter neue erstellen: `Alt+Enter`\n",
    "\n",
    "Die Tastaturbelegungen lassen sich unter `Settings > Settings Editor > Keyboard Shortcuts` anpassen. So lassen sich auch Befehle wie z.B. alle Zellen ausführen, oder alle Zellen nach der aktuellen ausführen auf Tasten legen."
   ]
  },
  {
   "cell_type": "markdown",
   "id": "28827643-c541-44b3-a1e2-036d68f23fec",
   "metadata": {},
   "source": [
    "## Hello World\n",
    "\n",
    "Das klassische erste Beispielprogramm in jedem Programmierkurs ist \"Hello World\", also ein Programm, das einfach nur den Text \"Hello World\" zurückgibt. Python zählt zu den \"höheren Programmiersprachen\", die auf einer höheren Abstraktionsebene arbeiten und viele Maschinenbefehle zu einfachen, menschlich lesbaren Befehlen zusammenfasst. Das \"Hello World\" Programm ist daher nur eine einzige Zeile lang:"
   ]
  },
  {
   "cell_type": "code",
   "execution_count": 1,
   "id": "551b2a6c-1196-45e2-ac2e-ab23f9c964bb",
   "metadata": {},
   "outputs": [
    {
     "name": "stdout",
     "output_type": "stream",
     "text": [
      "Hello World\n"
     ]
    }
   ],
   "source": [
    "print(\"Hello World\")"
   ]
  },
  {
   "cell_type": "markdown",
   "id": "7aaaa194-d2e6-4341-b0df-12e2f152bdb2",
   "metadata": {},
   "source": [
    "Was in dieser Zeile passiert, ist das wir die *Funktion* `print` aufrufen und ihr den Text `\"Hello World\"` als Argument übergeben. `print` ist eine von vielen Funktionen, die in Pythons Standardbibliothek definiert sind und gibt die Argumente im Output aus (bei Jupyter unter der Zelle, bei einem Python Skript ohne Jupyter in der Befehlseingabe). Jupyter gibt den Inhalt der letzten Zeile in einer Zelle immer aus, auch ohne `print`. Um dies zu unterdrücken, kann man die Zeile mit einem `;` beenden. "
   ]
  },
  {
   "cell_type": "code",
   "execution_count": 2,
   "id": "1160387c-320f-486c-ab86-1c1f48313aa5",
   "metadata": {},
   "outputs": [
    {
     "data": {
      "text/plain": [
       "'Hello World'"
      ]
     },
     "execution_count": 2,
     "metadata": {},
     "output_type": "execute_result"
    }
   ],
   "source": [
    "\"Hello World\""
   ]
  },
  {
   "cell_type": "code",
   "execution_count": 3,
   "id": "5aec8608-5f75-405d-85c6-501da8698b93",
   "metadata": {},
   "outputs": [],
   "source": [
    "\"Hello World\";"
   ]
  },
  {
   "cell_type": "markdown",
   "id": "6052c002",
   "metadata": {},
   "source": [
    "### Kommentare\n",
    "\n",
    "Wenn Python Code in einem alleinstehenden Skript geschrieben wird, lassen sich natürlich keine Markdown Zellen einfügen. Stattdessen kann man Kommentare einfügen, die vom Interpreter ignoriert werden, indem man sie mit einem `#` markiert. **Wenn Code langfristig verwendet werden soll, ist gute Dokumentation der Funktionalitäten und des Designs durch Kommentare genau so wichtig wie guter Code selbst!** "
   ]
  },
  {
   "cell_type": "code",
   "execution_count": 4,
   "id": "73f5a977",
   "metadata": {},
   "outputs": [
    {
     "data": {
      "text/plain": [
       "'Hello World'"
      ]
     },
     "execution_count": 4,
     "metadata": {},
     "output_type": "execute_result"
    }
   ],
   "source": [
    "# Dies ist ein Kommentar\n",
    "\"Hello World\""
   ]
  },
  {
   "cell_type": "markdown",
   "id": "3920c0c0-a727-438f-a375-e5f027a2edf1",
   "metadata": {},
   "source": [
    "## Datentypen\n",
    "\n",
    "In Python gibt es verschiedene grundlegende Datentypen:\n",
    "- `str` (String): Texte, wie \"Hello World\" in unserem vorherigen Beispiel `\"Hello World\"`. Können durch einfache Anführungszeichen `'Text'` oder doppelte `\"Text\"` markiert werden.\n",
    "- `int` (Integer): Ganzzahlen `0`, `1`,`42`\n",
    "- `float`: Kommazahlen `3.14`, `2.71`, `1e-8`, `1.0`\n",
    "- `list`: Geordnete Liste von beliebigen Objekten. Kann beliebig erweitert und verändert werden. `[0,1,2,3]`, `[\"Apfel\", \"Banane\", \"Mango\", \"Apfel\"]`, `[7, \"Text\", [1,2,3]]`\n",
    "- `tuple`: Geordnete Liste von beliebigen Objekten. Kann **nicht** erweitert und verändert werden. `(0,1,2,3)`, `(\"Apfel\", \"Banane\", \"Mango\", \"Apfel\")`, `(7, \"Text\", [1,2,3])`\n",
    "- `set`: Duplikatfreie, ungeordnete Liste von beliebigen Objekten. Objekte im Set können nicht verändert werden, aber es können Elemente entfernt / hinzugefügt werden. `{0,1,2,3}`, `{\"Apfel\", \"Banane\", \"Mango\"}`, `{7, \"Text\", (1,2,3)}` \n",
    "- `dict` (Dictionary, teilw. auch Map genannt): Ungeordnete Liste von Schlüssel-Wert-Paaren. Kann beliebig erweitert und verändert werden. `{\"Vorname\": \"Max\", \"Nachname\": \"Mustermann\", \"Alter\": 30, \"Hobbies\": [\"Fussball\", \"Programmieren\"]}`"
   ]
  },
  {
   "cell_type": "code",
   "execution_count": 5,
   "id": "f22031a5-219b-4761-a070-b524e6c5d642",
   "metadata": {},
   "outputs": [
    {
     "data": {
      "text/plain": [
       "[1, 2, 3]"
      ]
     },
     "execution_count": 5,
     "metadata": {},
     "output_type": "execute_result"
    }
   ],
   "source": [
    "[1,2,3]"
   ]
  },
  {
   "cell_type": "code",
   "execution_count": 6,
   "id": "af328be0-8db8-4076-aad5-f56b7b546edd",
   "metadata": {},
   "outputs": [
    {
     "data": {
      "text/plain": [
       "1e-06"
      ]
     },
     "execution_count": 6,
     "metadata": {},
     "output_type": "execute_result"
    }
   ],
   "source": [
    "0.000001"
   ]
  },
  {
   "cell_type": "markdown",
   "id": "4e386a1f-f262-4932-a43d-2e3a8ded42f7",
   "metadata": {},
   "source": [
    "## Variablen \n",
    "\n",
    "Variablen sind ein grundlegendes Konzept in jeder Programmiersprache. Sie dienen als Speicherorte, um Daten vorübergehend abzulegen und später im Code darauf zuzugreifen. Python zählt zu den *dynamisch typisierten* Programmiersprachen, in denen der Datentyp einer Variable sich im Laufe des Programmes ändern kann (wobei dies in der Regel nicht zu empfehlen ist). *Statisch Typisierte* Sprachen, wie z.B. C(++), Java erlauben dies nicht und erfordern häufig eine explizite Angabe des Typs bei der deklaration einer Variable. Python erkennt den Datentyp automatisch: "
   ]
  },
  {
   "cell_type": "code",
   "execution_count": 7,
   "id": "1a4739a5-6bdc-405a-bd32-d58a0f641b7d",
   "metadata": {},
   "outputs": [
    {
     "name": "stdout",
     "output_type": "stream",
     "text": [
      "Hallo Max Mustermann\n"
     ]
    }
   ],
   "source": [
    "name = \"Max Mustermann\"\n",
    "alter = 30\n",
    "hobbies = [\"Fussball\", \"Programmieren\"]\n",
    "print(\"Hallo\", name)"
   ]
  },
  {
   "cell_type": "markdown",
   "id": "5b6536ad-a1d0-4c88-92de-704dd2c86d92",
   "metadata": {},
   "source": [
    "**Variablen sollten stets so benannt werden, dass jemand der den Code liest, ihren Verwendungszweck aus dem Namen ableiten kann.**\n",
    "\n",
    "Um auf die Einträge einer `list`, eines `tuple` oder eines `dict` zuzugreifen, übergibt man den Index des Eintrages mit `[]`. Bei `list` und `tuple` zählen die Indizes die Elemente angefangen bei 0. Im Fall von vernesteten Strukturen können mehrere `[]` direkt aneinander gereiht werden (um Übersicht zu wahren, empfiehlt es sich jedoch in der Regel Strukturen nicht zu tief zu vernesten). "
   ]
  },
  {
   "cell_type": "code",
   "execution_count": 8,
   "id": "afe8fa61-3039-4479-aeab-48645741e9da",
   "metadata": {},
   "outputs": [
    {
     "name": "stdout",
     "output_type": "stream",
     "text": [
      "Name: Max Mustermann , Alter: 30 , erstes Hobby: Fussball\n"
     ]
    }
   ],
   "source": [
    "Person = {\"Vorname\": \"Max\", \"Nachname\": \"Mustermann\", \"Alter\": 30, \"Hobbies\": [\"Fussball\", \"Programmieren\"]}\n",
    "print(\"Name:\", Person[\"Vorname\"], Person[\"Nachname\"], \", Alter:\", Person[\"Alter\"], \", erstes Hobby:\", Person[\"Hobbies\"][0]) "
   ]
  },
  {
   "cell_type": "markdown",
   "id": "9c43d9f4-c80e-4bb1-9423-773d00af1b45",
   "metadata": {},
   "source": [
    "### Kopieren von Variablen"
   ]
  },
  {
   "cell_type": "markdown",
   "id": "612a5026",
   "metadata": {},
   "source": [
    "Wenn man eine Variable von einem simplen Datentyp (`int`, `float`, `str`, ...) kopiert, wird in Python der Wert der Variable kopiert, nicht die Variable selbst. Bei komplexen Datentypen (`list`, `dict`, `set`, ...) wird die Referenz auf das Objekt kopiert:"
   ]
  },
  {
   "cell_type": "code",
   "execution_count": 9,
   "id": "1240f3f0-f963-4949-9348-3c31bea6b143",
   "metadata": {},
   "outputs": [
    {
     "data": {
      "text/plain": [
       "1"
      ]
     },
     "execution_count": 9,
     "metadata": {},
     "output_type": "execute_result"
    }
   ],
   "source": [
    "a = 1\n",
    "b = a\n",
    "a = 2\n",
    "b"
   ]
  },
  {
   "cell_type": "code",
   "execution_count": 10,
   "id": "a1a4b2c5",
   "metadata": {},
   "outputs": [
    {
     "data": {
      "text/plain": [
       "[4, 2, 3]"
      ]
     },
     "execution_count": 10,
     "metadata": {},
     "output_type": "execute_result"
    }
   ],
   "source": [
    "a = [1,2,3]\n",
    "b = a\n",
    "b[0] = 4\n",
    "a"
   ]
  },
  {
   "cell_type": "markdown",
   "id": "db53049d-609c-4db9-bc36-04f8d537f6de",
   "metadata": {},
   "source": [
    "## Python als Taschenrechner\n",
    "\n",
    "Grundlage für jede Datenauswertung sind mathematische Operationen. Standardoperationen wie `+`, `-`, `*`, `/` stehen in Python direkt zur Verfügung. Der Operator für Potenzieren ist `basis**exponent`. Bei mathematischen Ausdrücken beachtet Python die übliche Reihenfolge von Operationen, also \"Punkt vor Strich\", aber zur verdeutlichung können immer Klammern verwendet werden (nur `()`, nicht `[]` oder `{}`). Anders als in vielen anderen Programmiersprachen, werden Integer in Python bei der Division automatisch zu Floats umgewandelt. Für Integer-Division gibt es den Operator `//`, bei dem immer zur nächsten Ganzzahl abgerundet wird, wobei der Datentyp des Ergebnis aber nur dann ein Integer ist, wenn beide Operanden dies auch sind. "
   ]
  },
  {
   "cell_type": "code",
   "execution_count": 11,
   "id": "860ca46a-80ca-484f-9da0-07d7bb1981d7",
   "metadata": {},
   "outputs": [
    {
     "data": {
      "text/plain": [
       "2.333333333333333"
      ]
     },
     "execution_count": 11,
     "metadata": {},
     "output_type": "execute_result"
    }
   ],
   "source": [
    "a = 1\n",
    "b = 2\n",
    "c = a + b**2 / 3\n",
    "c"
   ]
  },
  {
   "cell_type": "markdown",
   "id": "0297ac94-c6a4-4249-8259-0c5a621626fc",
   "metadata": {},
   "source": [
    "## Installation und Verwendung von Modulen\n",
    "Kompliziertere Funktionen, wie Wurzeln, Trigonometrische Funktionen, Integration, etc. sind in Python nicht direkt verfügbar. Dafür bietet Python eine reiche Bibliothek an *Modulen*, die mit dem `import` Befehl geladen werden können, falls sie installiert sind (siehe nächster Absatz). Funktionen aus einem Modul lassen sich dann mit `modulname.funktionsname` aufrufen."
   ]
  },
  {
   "cell_type": "code",
   "execution_count": 12,
   "id": "42fca565-a405-4066-b278-43b477569634",
   "metadata": {},
   "outputs": [
    {
     "data": {
      "text/plain": [
       "1.4142135623730951"
      ]
     },
     "execution_count": 12,
     "metadata": {},
     "output_type": "execute_result"
    }
   ],
   "source": [
    "import math\n",
    "\n",
    "math.sqrt(2)"
   ]
  },
  {
   "cell_type": "markdown",
   "id": "ed48aba4-9d3b-442e-994e-13efaf695c1f",
   "metadata": {},
   "source": [
    "Um Schreibarbeit zu sparen, kann Modulen beim import auch ein anderer Name zugewiesen werden, oder es können die Funktionen direkt importiert werden: "
   ]
  },
  {
   "cell_type": "code",
   "execution_count": 13,
   "id": "7c22bf0e-26c1-4a46-bada-8987654e398d",
   "metadata": {},
   "outputs": [
    {
     "data": {
      "text/plain": [
       "1.4142135623730951"
      ]
     },
     "execution_count": 13,
     "metadata": {},
     "output_type": "execute_result"
    }
   ],
   "source": [
    "import math as m\n",
    "m.sqrt(2)"
   ]
  },
  {
   "cell_type": "code",
   "execution_count": 14,
   "id": "4cb985b4-94a8-4f06-8376-cfe062b049b5",
   "metadata": {},
   "outputs": [
    {
     "data": {
      "text/plain": [
       "3.0"
      ]
     },
     "execution_count": 14,
     "metadata": {},
     "output_type": "execute_result"
    }
   ],
   "source": [
    "from math import log10\n",
    "log10(1000)"
   ]
  },
  {
   "cell_type": "markdown",
   "id": "15200361-079b-41d8-a9d9-3d9f2e5bb45a",
   "metadata": {},
   "source": [
    "### Installation von Modulen\n",
    "Einige häufig benötigte Module wie `math` sind bereits in der Standardinstallation von Python enthalten und können einfach importiert werden. Speziellere Module müssen häufig erst installiert werden. Wichtige Beispiele für diesen Kurs sind \n",
    "- `numpy` für Mathematik auf Vektoren, Matrizen und Tensoren\n",
    "- `pandas` für Datenanalyse und -manipulation\n",
    "- `matplotlib` für das Erstellen von Plots\n",
    "\n",
    "Wenn Python mit `miniconda` installiert wurde, lassen Pakete sich einfach über das Program `Anaconda (PowerShell) Prompt` mit einem einfachen Befehl installieren:\n",
    "```\n",
    "conda install numpy pandas matplotlib\n",
    "```\n",
    "\n",
    "#### Virtuelle Umgebungen\n",
    "Wenn man an mehreren Projekten arbeitet, oder häufig Open Source Python Programme verwendet, kann es passieren, dass unterschiedliche Projekte verschiedene Versionen von dem selben Modul (oder von Python selbst) benötigen und dadurch Konflikte entstehen. Um dies zu verhindern, empfiehlt es sich für jedes Projekt eine sogenannte *Virtuelle Umgebung* zu erstellen. Um in `conda` eine neue Umgebung zu erstellen verwendet man die Kommandozeile\n",
    "```\n",
    "conda create --name myEnv python=3.9\n",
    "conda activate myEnv\n",
    "```\n",
    "Der erste Befehl erzeugt eine neue Umgebung, hier als Beispiel mit Python Version 3.9 und der zweite Befehl aktiviert dann die Umgebung `myEnv`. Wenn danach Pakete installiert werden, sind diese nur in der virtuellen Umgebung `myEnv` verfügbar. Um wieder in die Standardumgebung zu wechseln verwendet man `conda deactivate` .\n",
    "\n",
    "Jupyter Notebooks laufen in der Regel bereits für jeden Nutzer in einer gesonderten Umgebung auf dem Server, der JupyterHub hostet. Um in dieser Umgebung Pakete zu installieren kann folgender Befehl verwendet werden: "
   ]
  },
  {
   "cell_type": "code",
   "execution_count": 15,
   "id": "a34b31ff",
   "metadata": {},
   "outputs": [
    {
     "name": "stdout",
     "output_type": "stream",
     "text": [
      "Retrieving notices: done\n",
      "\n",
      "Note: you may need to restart the kernel to use updated packages.\n"
     ]
    },
    {
     "name": "stderr",
     "output_type": "stream",
     "text": [
      "\n",
      "EnvironmentLocationNotFound: Not a conda environment: C:\\Users\\p.duwentaester\\Downloads\\Usersp.duwentaesterAppDataLocalminiconda3\n",
      "\n"
     ]
    }
   ],
   "source": [
    "import sys\n",
    "%conda install --yes --prefix {sys.prefix} numpy"
   ]
  },
  {
   "cell_type": "markdown",
   "id": "fdf80a9f",
   "metadata": {},
   "source": [
    "Dabei importieren wir das `sys` Modul um über `sys.prefix` herauszufinden, in welcher Umgebung wir uns gerade befinden, um das Paket ebendort installieren zu können."
   ]
  },
  {
   "cell_type": "markdown",
   "id": "f91423e5-1eda-4cc1-86bc-685dcca9841d",
   "metadata": {},
   "source": [
    "Außerhalb von Jupyter Notebooks ist das Installieren von Paketen etwas simpler: In der Kommandozeile reicht dafür der Befehl\n",
    "`conda install numpy`.\n",
    "Zudem gibt es einen alternativen Paketmanager `pip` (Package Installer for Python), der eine noch größere Auswahl an Paketen bereitstellt. Das Installieren von Paketen funktioniert hier sehr ähnlich mit `pip install numpy`"
   ]
  },
  {
   "cell_type": "markdown",
   "id": "07686d7f-8c47-455a-9f9b-68559146d52f",
   "metadata": {},
   "source": [
    "### Einführung in Numpy - Rechnen mit Vektoren und Matrizen \n",
    "\n",
    "Das Modul `NumPy` ist für die Datenanalyse mit Python eins der wichtigsten Werkzeuge. Es erweitert die Funktionalitäten des `math` Modules, sodass Funktionen nicht nur auf einzelne Zahlen, sondern sehr effizient auch auf Vektoren, Matrizen und höherdimensionale Objekte anwenden lassen. Da der Code im Hintergrund der `NumPy` Bibliothek extrem performant geschrieben ist, ist das ausführen einer Operation auf einem Vektor / einer Matrix auch sehr viel schneller, als in herkömmlichen Schleifen (siehe späterer Abschnitt). Alle diese Objekte werden in `NumPy` durch den `array` Datentypen dargestellt: "
   ]
  },
  {
   "cell_type": "code",
   "execution_count": 16,
   "id": "750eb35c-fbcd-45e8-9716-a2db829453c0",
   "metadata": {},
   "outputs": [
    {
     "name": "stdout",
     "output_type": "stream",
     "text": [
      "my_vec:    \n",
      " [1 2 3 4]\n",
      "my_mat:    \n",
      " [[ 1  2  3  4]\n",
      " [ 5  6  7  8]\n",
      " [ 9 10 11 12]\n",
      " [13 14 15 16]]\n"
     ]
    }
   ],
   "source": [
    "import numpy as np\n",
    "my_list = [[1,2,3,4], [5,6,7,8], [9,10,11,12], [13,14,15,16]]\n",
    "my_vec = np.array(my_list[0])\n",
    "my_mat = np.array(my_list)\n",
    "print(\"my_vec:    \\n\", my_vec)\n",
    "print(\"my_mat:    \\n\", my_mat)"
   ]
  },
  {
   "cell_type": "code",
   "execution_count": 17,
   "id": "fcac81de-c14d-43aa-afbd-1f906be4dc86",
   "metadata": {},
   "outputs": [
    {
     "name": "stdout",
     "output_type": "stream",
     "text": [
      "Wurzel jedes Elements:         [1.         1.41421356 1.73205081 2.        ]\n",
      "Mittelwert aller Elemente:     2.5\n",
      "Summe aller Elements:          10\n",
      "Transponierte Matrix:       \n",
      " [[ 1  5  9 13]\n",
      " [ 2  6 10 14]\n",
      " [ 3  7 11 15]\n",
      " [ 4  8 12 16]]\n"
     ]
    }
   ],
   "source": [
    "print(\"Wurzel jedes Elements:        \", np.sqrt(my_vec))\n",
    "print(\"Mittelwert aller Elemente:    \", np.mean(my_vec))\n",
    "print(\"Summe aller Elements:         \", np.sum(my_vec))\n",
    "print(\"Transponierte Matrix:       \\n\", my_mat.T)"
   ]
  },
  {
   "cell_type": "markdown",
   "id": "2b73c551",
   "metadata": {},
   "source": [
    "Viele Operationen, die normalerweise auf Zahlen angewendet werden, lassen sich direkt auf Arrays verallgemeinern und werden von `NumPy` elementweise durchgeführt:"
   ]
  },
  {
   "cell_type": "code",
   "execution_count": 18,
   "id": "a21e9b2e",
   "metadata": {},
   "outputs": [
    {
     "data": {
      "text/plain": [
       "array([2, 4, 6, 8])"
      ]
     },
     "execution_count": 18,
     "metadata": {},
     "output_type": "execute_result"
    }
   ],
   "source": [
    "my_vec+my_vec"
   ]
  },
  {
   "cell_type": "markdown",
   "id": "98813f7f",
   "metadata": {},
   "source": [
    "Bei Operationen mit Operanden von unterschiedlichen Rängen, z.B. Skalar und Vektor, erhöht `NumPy` automatisch den Rang des niedrigeren, sofern dies einfach möglich ist (*Broadcasting*)."
   ]
  },
  {
   "cell_type": "code",
   "execution_count": 19,
   "id": "347cc56c",
   "metadata": {},
   "outputs": [
    {
     "data": {
      "text/plain": [
       "array([2, 3, 4, 5])"
      ]
     },
     "execution_count": 19,
     "metadata": {},
     "output_type": "execute_result"
    }
   ],
   "source": [
    "my_vec + 1"
   ]
  },
  {
   "cell_type": "code",
   "execution_count": 20,
   "id": "25b6ad66",
   "metadata": {},
   "outputs": [
    {
     "ename": "NameError",
     "evalue": "name 'myMat' is not defined",
     "output_type": "error",
     "traceback": [
      "\u001b[1;31m---------------------------------------------------------------------------\u001b[0m",
      "\u001b[1;31mNameError\u001b[0m                                 Traceback (most recent call last)",
      "Cell \u001b[1;32mIn[20], line 1\u001b[0m\n\u001b[1;32m----> 1\u001b[0m myMat \u001b[38;5;241m*\u001b[39m my_vec\n",
      "\u001b[1;31mNameError\u001b[0m: name 'myMat' is not defined"
     ]
    }
   ],
   "source": [
    "my_mat * my_vec"
   ]
  },
  {
   "cell_type": "markdown",
   "id": "3017e45c",
   "metadata": {},
   "source": [
    "Für das Matrixprodukt, oder Skalarprodukt von Vektoren wird der Operator `@` verwendet (oder alternativ `np.dot(operand1, operand2)`):"
   ]
  },
  {
   "cell_type": "code",
   "execution_count": null,
   "id": "08f631bd",
   "metadata": {},
   "outputs": [],
   "source": [
    "my_mat @ my_vec"
   ]
  },
  {
   "cell_type": "code",
   "execution_count": null,
   "id": "b238c5bd",
   "metadata": {},
   "outputs": [],
   "source": [
    "my_mat @ my_mat"
   ]
  },
  {
   "cell_type": "code",
   "execution_count": null,
   "id": "baceaf47",
   "metadata": {},
   "outputs": [],
   "source": [
    "my_vec @ my_vec"
   ]
  },
  {
   "cell_type": "markdown",
   "id": "5cbaada5",
   "metadata": {},
   "source": [
    "### Array Slicing\n",
    "\n",
    "Häufig will man nicht mit allen Einträgen eines Arrays arbeiten, sondern nur mit einem bestimmten Teil, wie z.B. den ersten 10 Elementen oder jedem 2. Element. Für solche Fälle bietet `NumPy` sogenanntes *Array slicing*. Die Grundlegende Syntax dafür ist `array_name[start:stop:step]`, wobei der Index `start` inklusiv zu verstehen ist, und `stop` exklusiv:"
   ]
  },
  {
   "cell_type": "code",
   "execution_count": null,
   "id": "aa604ae7",
   "metadata": {},
   "outputs": [],
   "source": [
    "my_vec[0:2:1]"
   ]
  },
  {
   "cell_type": "markdown",
   "id": "c4bbb9e8",
   "metadata": {},
   "source": [
    "Der Standardwert für `start` ist 0, für `step` ist er 1 und einen `stop` gibt es standardmäßig nicht. Wenn ein Standartwert verwendet werden soll, muss dieser nicht explizit angegeben werden:"
   ]
  },
  {
   "cell_type": "code",
   "execution_count": null,
   "id": "855847b6",
   "metadata": {},
   "outputs": [],
   "source": [
    "print(\"my_vec[2:]       \", my_vec[2:])\n",
    "print(\"my_vec[:2]       \", my_vec[:2])\n",
    "print(\"my_vec[::2]      \", my_vec[::2])\n",
    "print(\"my_vec[1::2]     \", my_vec[1::2])"
   ]
  },
  {
   "cell_type": "markdown",
   "id": "43707ff7",
   "metadata": {},
   "source": [
    "Es können auch negative Werte angegeben werden, um z.B. die letzten 3 Elemente zu wählen, oder rückwärts durch das Array zu gehen:"
   ]
  },
  {
   "cell_type": "code",
   "execution_count": null,
   "id": "7a96511b",
   "metadata": {},
   "outputs": [],
   "source": [
    "print(\"my_vec[-2:]         \", my_vec[-2:])\n",
    "print(\"my_vec[-3:-1]       \", my_vec[-3:-1])\n",
    "print(\"my_vec[:-2]         \", my_vec[:-2])\n",
    "print(\"my_vec[::-1]        \", my_vec[::-1])"
   ]
  },
  {
   "cell_type": "markdown",
   "id": "89faae82",
   "metadata": {},
   "source": [
    "Die bisher gezeigten Varianten von Slicing können auch auf Datentypen wie `list` angewendet werden. Array slicing in `NumPy` kann aber darüber hinaus auch mehrdimensional angewendet werden. Dabei wird das Slicing für jede Dimension durch ein Komma getrennt: "
   ]
  },
  {
   "cell_type": "code",
   "execution_count": null,
   "id": "8f31f0fa",
   "metadata": {},
   "outputs": [],
   "source": [
    "print(\"my_mat[::-1,1:]       \\n\", my_mat[::-1,1:])\n",
    "print(\"my_mat[:,:2]          \\n\", my_mat[:,:2])"
   ]
  },
  {
   "cell_type": "code",
   "execution_count": null,
   "id": "21971109",
   "metadata": {},
   "outputs": [],
   "source": []
  }
 ],
 "metadata": {
  "kernelspec": {
   "display_name": "Python 3 (ipykernel)",
   "language": "python",
   "name": "python3"
  },
  "language_info": {
   "codemirror_mode": {
    "name": "ipython",
    "version": 3
   },
   "file_extension": ".py",
   "mimetype": "text/x-python",
   "name": "python",
   "nbconvert_exporter": "python",
   "pygments_lexer": "ipython3",
   "version": "3.12.7"
  }
 },
 "nbformat": 4,
 "nbformat_minor": 5
}
